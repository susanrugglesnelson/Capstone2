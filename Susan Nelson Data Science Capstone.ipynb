{
    "cells": [
        {
            "metadata": {},
            "cell_type": "code",
            "source": "import pandas as pd\nimport numpy as np\nimport requests\nimport json\nimport os\nimport io\nimport requests # library to handle requests\nfrom bs4 import BeautifulSoup # library to parse HTML and XML documents\n\nfrom pandas.io.json import json_normalize",
            "execution_count": 2,
            "outputs": []
        },
        {
            "metadata": {},
            "cell_type": "code",
            "source": "print(\"Hello Capstone Project Course!\")",
            "execution_count": 3,
            "outputs": [
                {
                    "output_type": "stream",
                    "text": "Hello Capstone Project Course!\n",
                    "name": "stdout"
                }
            ]
        },
        {
            "metadata": {},
            "cell_type": "code",
            "source": "\nimport types\nimport pandas as pd\nfrom botocore.client import Config\nimport ibm_boto3\n\ndef __iter__(self): return 0\n\n# @hidden_cell\n# The following code accesses a file in your IBM Cloud Object Storage. It includes your credentials.\n# You might want to remove those credentials before you share the notebook.\nclient_46d14f81fd8c487aba855cc493efc0e3 = ibm_boto3.client(service_name='s3',\n    ibm_api_key_id='i13W1AO19ugCQ-Re9HCkIT0DvSrJiD0vJ1OvedF4iAZt',\n    ibm_auth_endpoint=\"https://iam.cloud.ibm.com/oidc/token\",\n    config=Config(signature_version='oauth'),\n    endpoint_url='https://s3.eu-geo.objectstorage.service.networklayer.com')\n\n# Your data file was loaded into a botocore.response.StreamingBody object.\n# Please read the documentation of ibm_boto3 and pandas to learn more about the possibilities to load the data.\n# ibm_boto3 documentation: https://ibm.github.io/ibm-cos-sdk-python/\n# pandas documentation: http://pandas.pydata.org/\nstreaming_body_1 = client_46d14f81fd8c487aba855cc493efc0e3.get_object(Bucket='susannelsondatasciencecapstone-donotdelete-pr-bt4e3isfqtzg9a', Key='US_Accidents_June20.csv.zip')['Body']\n# add missing __iter__ method, so pandas accepts body as file-like object\nif not hasattr(streaming_body_1, \"__iter__\"): streaming_body_1.__iter__ = types.MethodType( __iter__, streaming_body_1 ) \n",
            "execution_count": 16,
            "outputs": []
        },
        {
            "metadata": {},
            "cell_type": "code",
            "source": "\nbody = client_46d14f81fd8c487aba855cc493efc0e3.get_object(Bucket='susannelsondatasciencecapstone-donotdelete-pr-bt4e3isfqtzg9a',Key='Cambs_RTC.csv')['Body']\n# add missing __iter__ method, so pandas accepts body as file-like object\nif not hasattr(body, \"__iter__\"): body.__iter__ = types.MethodType( __iter__, body )\n\ndf_data_2 = pd.read_csv(body,encoding='latin-1' )\ndf_data_2.head()\n",
            "execution_count": 19,
            "outputs": [
                {
                    "output_type": "execute_result",
                    "execution_count": 19,
                    "data": {
                        "text/plain": "   Reference      Date  Year  Month  Day      Day.1  Time Severity Road_Class  \\\n0       2016  20160106  2016      1    6  Wednesday   725   Slight          A   \n1       2114  20140108  2014      1    8  Wednesday  1700  Serious          A   \n2       2115  20150104  2015      1    4     Sunday   851   Slight          A   \n3       2116  20160106  2016      1    6  Wednesday  1830   Slight          U   \n4       2214  20140108  2014      1    8  Wednesday  1930   Slight          C   \n\n   Main_rd_no  ...                   Vehicle_2_Location Vehicle_ 2_Skidding  \\\n0          14  ...    Mid jnctn - on rbout or main road        Did not skid   \n1          15  ...    Not at,or within 20m of, junction        Did not skid   \n2        1303  ...                                  NaN                 NaN   \n3           0  ...    Mid jnctn - on rbout or main road        Did not skid   \n4         233  ...  Approaching jnctn or waiting/parked             Skidded   \n\n  Vehicle_3_Type V3_Manouvres  V3_From_Direction V3_To_Direction  \\\n0            NaN          NaN                NaN             NaN   \n1    Pedal cycle  Going ahead                  S               N   \n2            NaN          NaN                NaN             NaN   \n3            NaN          NaN                NaN             NaN   \n4            NaN          NaN                NaN             NaN   \n\n                         V3_Location   V3_Skidding      Easting     Northing  \n0                                NaN           NaN  539615.1862  263046.6829  \n1  Not at,or within 20m of, junction  Did not skid  518522.3493  295214.4750  \n2                                NaN           NaN  557908.6599  260077.8128  \n3                                NaN           NaN  546837.5629  251899.5338  \n4                                NaN           NaN  548454.2874  256084.2459  \n\n[5 rows x 54 columns]",
                        "text/html": "<div>\n<style scoped>\n    .dataframe tbody tr th:only-of-type {\n        vertical-align: middle;\n    }\n\n    .dataframe tbody tr th {\n        vertical-align: top;\n    }\n\n    .dataframe thead th {\n        text-align: right;\n    }\n</style>\n<table border=\"1\" class=\"dataframe\">\n  <thead>\n    <tr style=\"text-align: right;\">\n      <th></th>\n      <th>Reference</th>\n      <th>Date</th>\n      <th>Year</th>\n      <th>Month</th>\n      <th>Day</th>\n      <th>Day.1</th>\n      <th>Time</th>\n      <th>Severity</th>\n      <th>Road_Class</th>\n      <th>Main_rd_no</th>\n      <th>...</th>\n      <th>Vehicle_2_Location</th>\n      <th>Vehicle_ 2_Skidding</th>\n      <th>Vehicle_3_Type</th>\n      <th>V3_Manouvres</th>\n      <th>V3_From_Direction</th>\n      <th>V3_To_Direction</th>\n      <th>V3_Location</th>\n      <th>V3_Skidding</th>\n      <th>Easting</th>\n      <th>Northing</th>\n    </tr>\n  </thead>\n  <tbody>\n    <tr>\n      <th>0</th>\n      <td>2016</td>\n      <td>20160106</td>\n      <td>2016</td>\n      <td>1</td>\n      <td>6</td>\n      <td>Wednesday</td>\n      <td>725</td>\n      <td>Slight</td>\n      <td>A</td>\n      <td>14</td>\n      <td>...</td>\n      <td>Mid jnctn - on rbout or main road</td>\n      <td>Did not skid</td>\n      <td>NaN</td>\n      <td>NaN</td>\n      <td>NaN</td>\n      <td>NaN</td>\n      <td>NaN</td>\n      <td>NaN</td>\n      <td>539615.1862</td>\n      <td>263046.6829</td>\n    </tr>\n    <tr>\n      <th>1</th>\n      <td>2114</td>\n      <td>20140108</td>\n      <td>2014</td>\n      <td>1</td>\n      <td>8</td>\n      <td>Wednesday</td>\n      <td>1700</td>\n      <td>Serious</td>\n      <td>A</td>\n      <td>15</td>\n      <td>...</td>\n      <td>Not at,or within 20m of, junction</td>\n      <td>Did not skid</td>\n      <td>Pedal cycle</td>\n      <td>Going ahead</td>\n      <td>S</td>\n      <td>N</td>\n      <td>Not at,or within 20m of, junction</td>\n      <td>Did not skid</td>\n      <td>518522.3493</td>\n      <td>295214.4750</td>\n    </tr>\n    <tr>\n      <th>2</th>\n      <td>2115</td>\n      <td>20150104</td>\n      <td>2015</td>\n      <td>1</td>\n      <td>4</td>\n      <td>Sunday</td>\n      <td>851</td>\n      <td>Slight</td>\n      <td>A</td>\n      <td>1303</td>\n      <td>...</td>\n      <td>NaN</td>\n      <td>NaN</td>\n      <td>NaN</td>\n      <td>NaN</td>\n      <td>NaN</td>\n      <td>NaN</td>\n      <td>NaN</td>\n      <td>NaN</td>\n      <td>557908.6599</td>\n      <td>260077.8128</td>\n    </tr>\n    <tr>\n      <th>3</th>\n      <td>2116</td>\n      <td>20160106</td>\n      <td>2016</td>\n      <td>1</td>\n      <td>6</td>\n      <td>Wednesday</td>\n      <td>1830</td>\n      <td>Slight</td>\n      <td>U</td>\n      <td>0</td>\n      <td>...</td>\n      <td>Mid jnctn - on rbout or main road</td>\n      <td>Did not skid</td>\n      <td>NaN</td>\n      <td>NaN</td>\n      <td>NaN</td>\n      <td>NaN</td>\n      <td>NaN</td>\n      <td>NaN</td>\n      <td>546837.5629</td>\n      <td>251899.5338</td>\n    </tr>\n    <tr>\n      <th>4</th>\n      <td>2214</td>\n      <td>20140108</td>\n      <td>2014</td>\n      <td>1</td>\n      <td>8</td>\n      <td>Wednesday</td>\n      <td>1930</td>\n      <td>Slight</td>\n      <td>C</td>\n      <td>233</td>\n      <td>...</td>\n      <td>Approaching jnctn or waiting/parked</td>\n      <td>Skidded</td>\n      <td>NaN</td>\n      <td>NaN</td>\n      <td>NaN</td>\n      <td>NaN</td>\n      <td>NaN</td>\n      <td>NaN</td>\n      <td>548454.2874</td>\n      <td>256084.2459</td>\n    </tr>\n  </tbody>\n</table>\n<p>5 rows \u00d7 54 columns</p>\n</div>"
                    },
                    "metadata": {}
                }
            ]
        },
        {
            "metadata": {},
            "cell_type": "code",
            "source": "",
            "execution_count": null,
            "outputs": []
        }
    ],
    "metadata": {
        "kernelspec": {
            "name": "python3",
            "display_name": "Python 3.6",
            "language": "python"
        },
        "language_info": {
            "name": "python",
            "version": "3.6.9",
            "mimetype": "text/x-python",
            "codemirror_mode": {
                "name": "ipython",
                "version": 3
            },
            "pygments_lexer": "ipython3",
            "nbconvert_exporter": "python",
            "file_extension": ".py"
        }
    },
    "nbformat": 4,
    "nbformat_minor": 1
}